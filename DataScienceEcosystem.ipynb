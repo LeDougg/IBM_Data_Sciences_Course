{
 "cells": [
  {
   "cell_type": "markdown",
   "id": "337839ff-08a0-40c3-9a4c-218a50b600e9",
   "metadata": {},
   "source": [
    "# Data Science Tools and Ecosystem"
   ]
  },
  {
   "cell_type": "markdown",
   "id": "62f9b833-5ac4-4b46-9b42-044c0cf17271",
   "metadata": {},
   "source": [
    "#### In this notebook, Data Science tools and Ecosystem are summarized."
   ]
  },
  {
   "cell_type": "markdown",
   "id": "ac70d534-850f-45f9-a9e9-1794df839d1d",
   "metadata": {},
   "source": [
    "#### Objectives : \n",
    "- list popular data science languages\n",
    "- list commonly used libraries\n",
    "- make a table of some tools\n",
    "- test arithmetic expressions\n",
    "- use markdown and \"code\" "
   ]
  },
  {
   "cell_type": "markdown",
   "id": "ea7500e8-430d-497d-8336-538bb6246939",
   "metadata": {},
   "source": [
    "##### Some of the popular languages that Data Scientists use are : \n",
    "\n",
    "1. R\n",
    "2. Python\n",
    "3. SQL\n",
    "4. C/C++\n",
    "5. Java\n",
    "6. JavaScript\n",
    "7. Julia"
   ]
  },
  {
   "cell_type": "markdown",
   "id": "ab843117-9bef-47e3-998b-4258518ceb92",
   "metadata": {},
   "source": [
    "##### Some of the commonly used libraries used by Data Scientists include:\n",
    "\n",
    "1. NumPy\n",
    "2. Pandas\n",
    "3. Matplotlib\n",
    "4. Plotly\n",
    "5. Tensorflow\n"
   ]
  },
  {
   "cell_type": "markdown",
   "id": "6c45e420-d8c8-4986-816a-5164d3b05670",
   "metadata": {},
   "source": [
    "| Data Science Tools |\n",
    "|--------------------|\n",
    "| Jupyter Notebook   |\n",
    "| RStudio            |\n",
    "| Spyder             |\n"
   ]
  },
  {
   "cell_type": "markdown",
   "id": "06c7b10b-b5fd-4457-9656-3a2855e39a92",
   "metadata": {},
   "source": [
    "### Below are a few examples of evaluating arithmetic expressions in Python.\n"
   ]
  },
  {
   "cell_type": "code",
   "execution_count": 6,
   "id": "0b4eb12f-019a-4f05-b3c4-8a2af35bc8bc",
   "metadata": {},
   "outputs": [
    {
     "data": {
      "text/plain": [
       "17"
      ]
     },
     "execution_count": 6,
     "metadata": {},
     "output_type": "execute_result"
    }
   ],
   "source": [
    "(3*4)+5\n",
    "# this is a simple arithmetic expression to mutiply then add integers"
   ]
  },
  {
   "cell_type": "code",
   "execution_count": 7,
   "id": "3b55e352-5fdf-4f02-8f00-b866fc15d901",
   "metadata": {},
   "outputs": [
    {
     "data": {
      "text/plain": [
       "3.3333333333333335"
      ]
     },
     "execution_count": 7,
     "metadata": {},
     "output_type": "execute_result"
    }
   ],
   "source": [
    "# This will convert 200 minutes to hours by diving by 60\n",
    "200/60"
   ]
  },
  {
   "cell_type": "markdown",
   "id": "2d35027e-6868-450f-9f33-2d11e590c091",
   "metadata": {},
   "source": [
    "## Author\n",
    "Tristan Naas"
   ]
  },
  {
   "cell_type": "code",
   "execution_count": null,
   "id": "1e22acf1-0124-4214-a17e-c1788b62c387",
   "metadata": {},
   "outputs": [],
   "source": []
  }
 ],
 "metadata": {
  "kernelspec": {
   "display_name": "Python 3 (ipykernel)",
   "language": "python",
   "name": "python3"
  },
  "language_info": {
   "codemirror_mode": {
    "name": "ipython",
    "version": 3
   },
   "file_extension": ".py",
   "mimetype": "text/x-python",
   "name": "python",
   "nbconvert_exporter": "python",
   "pygments_lexer": "ipython3",
   "version": "3.12.5"
  }
 },
 "nbformat": 4,
 "nbformat_minor": 5
}
